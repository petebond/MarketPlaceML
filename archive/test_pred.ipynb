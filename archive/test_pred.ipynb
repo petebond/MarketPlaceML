{
 "cells": [
  {
   "cell_type": "code",
   "execution_count": null,
   "metadata": {},
   "outputs": [],
   "source": [
    "import classes.clean_images as ci\n",
    "import classes.clean_tabular as ct\n",
    "from sklearn.metrics import mean_squared_error, r2_score\n",
    "from sklearn.linear_model import LinearRegression\n",
    "from sklearn.preprocessing import OneHotEncoder\n",
    "import numpy as np\n",
    "import pandas as pd\n",
    "import matplotlib.pyplot as plt\n",
    "from sklearn.model_selection import train_test_split\n",
    "\n",
    "\n",
    "facebook = ct.Marketplace()\n",
    "if facebook.not_already_downloaded():\n",
    "    print(\"Go online and get data\")\n",
    "    facebook.connect_to_RDS_engine()\n",
    "    print(\"Remove N/A categories\")\n",
    "    facebook.remove_n_a_records('category')\n",
    "    col = 'category'\n",
    "    char = '/'\n",
    "    num = facebook.main_df[col].str.count(char).max()+1\n",
    "    print(\"Split Heirarchies\")\n",
    "    facebook.split_heirarchies(col, char, num)\n",
    "    col = 'product_name'\n",
    "    char = ' in '\n",
    "    num = facebook.main_df[col].str.count(char).max()+1\n",
    "    facebook.split_heirarchies(col, char, num)\n",
    "    print(\"Get rid of extra columns\")\n",
    "    facebook.clean_columns(num)\n",
    "    # print(\"Create the numbers dataframe\")\n",
    "    # facebook.create_num_df()\n",
    "    # print(\"Create the categorical dataframe\")\n",
    "    # facebook.create_cat_df()\n",
    "    # facebook.num_df.to_csv(r\"data/cleaned.csv\")\n",
    "else:\n",
    "    facebook.load_all_existing_data_to_dfs()\n"
   ]
  },
  {
   "cell_type": "code",
   "execution_count": null,
   "metadata": {},
   "outputs": [],
   "source": [
    "facebook.main_df\n"
   ]
  },
  {
   "cell_type": "code",
   "execution_count": null,
   "metadata": {},
   "outputs": [],
   "source": [
    "\n",
    "path = './images'\n",
    "output_path = './resized'\n",
    "clean_images = ci.CleanImages(path, output_path)\n",
    "clean_images.clean(128)\n"
   ]
  },
  {
   "cell_type": "code",
   "execution_count": null,
   "metadata": {},
   "outputs": [],
   "source": [
    "\n",
    "# Create the model\n",
    "product_X = facebook.main_df[['category']]\n",
    "product_y = facebook.main_df['price']\n",
    "\n",
    "product_X = pd.get_dummies(product_X, drop_first=True)\n",
    "product_X"
   ]
  },
  {
   "cell_type": "code",
   "execution_count": null,
   "metadata": {},
   "outputs": [],
   "source": [
    "facebook.clean_columns(num)"
   ]
  },
  {
   "cell_type": "code",
   "execution_count": null,
   "metadata": {},
   "outputs": [],
   "source": [
    "product_y"
   ]
  },
  {
   "cell_type": "code",
   "execution_count": null,
   "metadata": {},
   "outputs": [],
   "source": [
    "\n",
    "#use sklearn model for creating the test and train data\n",
    "product_X_train, product_X_test, product_y_train, product_y_test = train_test_split(product_X, product_y, test_size=0.2, random_state=0)\n",
    "\n",
    "regr = LinearRegression()\n",
    "regr.fit(product_X_train, product_y_train)\n",
    "\n",
    "product_y_pred = regr.predict(product_X_test)\n",
    "\n",
    "# The coefficients\n",
    "print(\"Coefficients: \\n\", regr.coef_)\n",
    "# The mean squared error\n",
    "print(\"Mean squared error: %.2f\" % mean_squared_error(product_y_test, product_y_pred))\n",
    "# The coefficient of determination: 1 is perfect prediction\n",
    "print(\"Coefficient of determination: %.2f\" % r2_score(product_y_test, product_y_pred))\n",
    "\n",
    "# Plot outputs\n",
    "plt.scatter(product_X_test, product_y_test, color=\"black\")\n",
    "plt.plot(product_X_test, product_y_pred, color=\"blue\", linewidth=3)\n",
    "\n",
    "plt.xticks(())\n",
    "plt.yticks(())\n",
    "\n",
    "plt.show()\n",
    "\n",
    "\n"
   ]
  }
 ],
 "metadata": {
  "interpreter": {
   "hash": "10e48adfccac507dfb5b32a0d22b7fd973a5ecf1288933bd7a360a98fc8c5575"
  },
  "kernelspec": {
   "display_name": "Python 3.9.7 64-bit",
   "language": "python",
   "name": "python3"
  },
  "language_info": {
   "codemirror_mode": {
    "name": "ipython",
    "version": 3
   },
   "file_extension": ".py",
   "mimetype": "text/x-python",
   "name": "python",
   "nbconvert_exporter": "python",
   "pygments_lexer": "ipython3",
   "version": "3.9.7"
  },
  "orig_nbformat": 4
 },
 "nbformat": 4,
 "nbformat_minor": 2
}
