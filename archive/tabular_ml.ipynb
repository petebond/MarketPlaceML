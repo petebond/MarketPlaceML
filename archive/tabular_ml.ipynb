{
 "cells": [
  {
   "cell_type": "code",
   "execution_count": 23,
   "metadata": {},
   "outputs": [
    {
     "name": "stdout",
     "output_type": "stream",
     "text": [
      "Existing data found\n"
     ]
    }
   ],
   "source": [
    "import sklearn\n",
    "import numpy as np\n",
    "import pandas as pd\n",
    "import classes.clean_tabular as ct\n",
    "\n",
    "facebook = ct.Marketplace()\n",
    "\n",
    "if facebook.not_already_downloaded():\n",
    "    print(\"Go online and get data\")\n",
    "    facebook.connect_to_RDS_engine()\n",
    "    print(\"Remove N/A categories\")\n",
    "    facebook.remove_n_a_records('category')\n",
    "    col = 'category'\n",
    "    char = '/'\n",
    "    num = facebook.main_df[col].str.count(char).max()+1\n",
    "    print(\"Split Heirarchies\")\n",
    "    facebook.split_heirarchies(col, char, num)\n",
    "    col = 'product_name'\n",
    "    char = ' in '\n",
    "    num = facebook.main_df[col].str.count(char).max()+1\n",
    "    facebook.split_heirarchies(col, char, num)\n",
    "    print(\"Get rid of extra columns\")\n",
    "    facebook.clean_columns(num)\n",
    "    print(\"Create the numbers dataframe\")\n",
    "    facebook.create_num_df()\n",
    "    print(\"Geocoding locations - this may take some time\")\n",
    "    facebook.geocode_locations()\n",
    "    print(\"And finally, output to csv\")\n",
    "    facebook.num_df.to_csv(r\"data/Geocoded.csv\")\n",
    "else:\n",
    "    facebook.load_all_existing_data_to_dfs()\n"
   ]
  },
  {
   "cell_type": "code",
   "execution_count": 24,
   "metadata": {},
   "outputs": [
    {
     "name": "stdout",
     "output_type": "stream",
     "text": [
      "      Unnamed: 0                                    id  \\\n",
      "0              1  243809c0-9cfc-4486-ad12-3b7a16605ba9   \n",
      "1              2  1c58d3f9-8b93-47ea-9415-204fcc2a22e6   \n",
      "2              3  860673f1-57f6-47ba-8d2f-13f9e05b8f9a   \n",
      "3              4  59948726-29be-4b35-ade5-bb2fd7331856   \n",
      "4              5  16dbc860-696e-4cda-93f6-4dd4926573fb   \n",
      "...          ...                                   ...   \n",
      "11313       8085  c4148656-78a9-4f3e-b393-134fdc5ef900   \n",
      "11314       8086  564e3411-768d-4250-a624-b119d696f103   \n",
      "11315       8088  2b0a652b-46a2-4297-b619-5efeeb222787   \n",
      "11316       8089  719fd40a-870e-4144-b324-55dff2e66fb4   \n",
      "11317       8090  86d1806b-5575-4a7e-9160-f24f12be6c95   \n",
      "\n",
      "                                     product_description   price  \\\n",
      "0      Mirror wall art. Posted by Nisha in Dining, Li...    5.00   \n",
      "1      Morphy Richard’s (model no 48755)Stainless ste...   20.00   \n",
      "2      I have 2 of these - collection only as I don’t...   20.00   \n",
      "3      Great reclaimed army ammunition box used as co...  115.00   \n",
      "4      New Design Shannon Corner sofa  5 Seater Avail...    None   \n",
      "...                                                  ...     ...   \n",
      "11313  Sony PlayStation VR Move Bundle353CASH ON COLL...  260.00   \n",
      "11314  Playstation VR V2 Bundle355CASH ON COLLECTION ...  235.00   \n",
      "11315  Pick up only £250Comes with two pistols stocks...  250.00   \n",
      "11316  Bought at christmas from currys retailing at £...   30.00   \n",
      "11317  Nintendo Switch console only used 2/3 times. A...  450.00   \n",
      "\n",
      "                           location       page_id create_time  category  \\\n",
      "0              Wokingham, Berkshire  1.426705e+09  2022-02-26       5.0   \n",
      "1               Inverness, Highland  1.426705e+09  2022-02-26       5.0   \n",
      "2            Skegness, Lincolnshire  1.426705e+09  2022-02-26       5.0   \n",
      "3                Radstock, Somerset  1.426705e+09  2022-02-26       5.0   \n",
      "4                              None           NaN        None       NaN   \n",
      "...                             ...           ...         ...       ...   \n",
      "11313   Acocks Green, West Midlands  1.422159e+09  2022-02-28       4.0   \n",
      "11314   Acocks Green, West Midlands  1.422159e+09  2022-02-28       4.0   \n",
      "11315               Montrose, Angus  1.426669e+09  2022-02-28       4.0   \n",
      "11316  Carrickfergus, County Antrim  1.426700e+09  2022-02-28       4.0   \n",
      "11317                 Poole, Dorset  1.426700e+09  2022-02-28       4.0   \n",
      "\n",
      "      sub_category minor_category  \\\n",
      "0              113             76   \n",
      "1               28            273   \n",
      "2               59             11   \n",
      "3              113             66   \n",
      "4             None           None   \n",
      "...            ...            ...   \n",
      "11313           92            133   \n",
      "11314           92            133   \n",
      "11315           46            273   \n",
      "11316           78            136   \n",
      "11317           86            273   \n",
      "\n",
      "                                            product_name  \\\n",
      "0                                        Mirror wall art   \n",
      "1                           Stainless Steel Food Steamer   \n",
      "2                                           Sun loungers   \n",
      "3      Coffee side table from Ammunition ammo box hai...   \n",
      "4                                                   None   \n",
      "...                                                  ...   \n",
      "11313                    Sony PlayStation VR Move Bundle   \n",
      "11314                           Playstation VR V2 Bundle   \n",
      "11315                               Oculus quest 2 256gb   \n",
      "11316                     Logitech driving force shifter   \n",
      "11317                  20 GAMES & NINTENDO SWITCH BUNDLE   \n",
      "\n",
      "                                                 geocode  \\\n",
      "0      Berkshire, Bracknell Forest, South East Englan...   \n",
      "1      Inverness, Highland, Alba / Scotland, IV1 1PQ,...   \n",
      "2      Skegness, East Lindsey, Lincolnshire, East Mid...   \n",
      "3      Radstock, Bath and North East Somerset, South ...   \n",
      "4                                                   None   \n",
      "...                                                  ...   \n",
      "11313  Acocks Green, Great Western Court, Acocks Gree...   \n",
      "11314  Acocks Green, Great Western Court, Acocks Gree...   \n",
      "11315  Montrose, Angus, Alba / Scotland, DD10 8JE, Un...   \n",
      "11316  Carrickfergus, County Antrim, Northern Ireland...   \n",
      "11317  Poole, Bear Cross, Bournemouth, Christchurch a...   \n",
      "\n",
      "                                             long_lat  \n",
      "0      (51.453488899999996, -1.0318729593399247, 0.0)  \n",
      "1                        (57.4790124, -4.225739, 0.0)  \n",
      "2      (53.150227799999996, 0.32909339328596654, 0.0)  \n",
      "3                       (51.2919489, -2.4476231, 0.0)  \n",
      "4                                                None  \n",
      "...                                               ...  \n",
      "11313                   (52.4495299, -1.8192378, 0.0)  \n",
      "11314                   (52.4495299, -1.8192378, 0.0)  \n",
      "11315                   (56.7114295, -2.4681544, 0.0)  \n",
      "11316                   (54.7136165, -5.8073112, 0.0)  \n",
      "11317         (50.74020055, -1.9537512539581008, 0.0)  \n",
      "\n",
      "[11318 rows x 13 columns]\n"
     ]
    }
   ],
   "source": [
    "print(facebook.num_df)"
   ]
  },
  {
   "cell_type": "code",
   "execution_count": 25,
   "metadata": {},
   "outputs": [
    {
     "data": {
      "text/plain": [
       "<AxesSubplot:>"
      ]
     },
     "execution_count": 25,
     "metadata": {},
     "output_type": "execute_result"
    },
    {
     "data": {
      "image/png": "[encoded data removed]",
      "text/plain": [
       "<Figure size 1800x720 with 2 Axes>"
      ]
     },
     "metadata": {
      "needs_background": "light"
     },
     "output_type": "display_data"
    }
   ],
   "source": [
    "import missingno as msno\n",
    "facebook.num_df = facebook.num_df.sort_values(by=['price'])\n",
    "msno.matrix(facebook.num_df)\n"
   ]
  },
  {
   "cell_type": "code",
   "execution_count": 26,
   "metadata": {},
   "outputs": [
    {
     "data": {
      "text/plain": [
       "<AxesSubplot:>"
      ]
     },
     "execution_count": 26,
     "metadata": {},
     "output_type": "execute_result"
    },
    {
     "data": {
      "image/png": "[encoded data removed]",
      "text/plain": [
       "<Figure size 1800x720 with 2 Axes>"
      ]
     },
     "metadata": {
      "needs_background": "light"
     },
     "output_type": "display_data"
    }
   ],
   "source": [
    "clean_df = facebook.num_df.dropna()\n",
    "clean_df = clean_df.drop(\n",
    "    ['product_description',\n",
    "    'location',\n",
    "    'page_id',\n",
    "    'create_time',\n",
    "    'product_name',\n",
    "    'Unnamed: 0',\n",
    "    'sub_category',\n",
    "    'minor_category',\n",
    "    'geocode',\n",
    "    'long_lat'],\n",
    "    axis=1)\n",
    "msno.matrix(clean_df)"
   ]
  },
  {
   "cell_type": "code",
   "execution_count": 27,
   "metadata": {},
   "outputs": [
    {
     "name": "stdout",
     "output_type": "stream",
     "text": [
      "                                         id   price  category\n",
      "4436   f9e4fc1c-175a-4046-bd31-1821f46e6445    0.00      11.0\n",
      "784    8910d61d-35d6-4a70-92df-2d503ddea926    0.00       5.0\n",
      "3122   cf7ae00e-90f7-4652-b01e-8e5a6477bd2e    0.00       6.0\n",
      "3192   046b1534-919b-4181-a50d-22f09526ad88    0.00       6.0\n",
      "10209  3306c04f-f217-46be-b424-cd11ea1ff9dd    0.00       8.0\n",
      "...                                     ...     ...       ...\n",
      "8059   daf20f20-fc25-460e-aeea-e1a1aa3fada6  999.00       0.0\n",
      "2423   f6687cd1-6d1f-4201-b9f9-7fc12438cfc7  999.00      10.0\n",
      "10497  94e88043-8417-47cb-b1b7-f8e4ba870006  999.00       4.0\n",
      "10315  5cc4b6c8-08f5-4751-8483-e810c7f47818  999.99       8.0\n",
      "10285  7f6921df-7140-4592-934d-baf2e2d16037  999.99       8.0\n",
      "\n",
      "[6172 rows x 3 columns]\n"
     ]
    }
   ],
   "source": [
    "print(clean_df)"
   ]
  },
  {
   "cell_type": "code",
   "execution_count": 35,
   "metadata": {},
   "outputs": [
    {
     "data": {
      "text/plain": [
       "(array([6.168e+03, 3.000e+00, 0.000e+00, 0.000e+00, 0.000e+00, 0.000e+00,\n",
       "        0.000e+00, 0.000e+00, 0.000e+00, 1.000e+00]),\n",
       " array([       0.,  1000000.,  2000000.,  3000000.,  4000000.,  5000000.,\n",
       "         6000000.,  7000000.,  8000000.,  9000000., 10000000.]),\n",
       " <BarContainer object of 10 artists>)"
      ]
     },
     "execution_count": 35,
     "metadata": {},
     "output_type": "execute_result"
    },
    {
     "data": {
      "image/png": "[encoded data removed]",
      "text/plain": [
       "<Figure size 432x288 with 1 Axes>"
      ]
     },
     "metadata": {
      "needs_background": "light"
     },
     "output_type": "display_data"
    }
   ],
   "source": [
    "import matplotlib.pyplot as plt\n",
    "\n",
    "# remove commas from price values\n",
    "clean_df['price'] = clean_df['price'].replace(',','', regex=True)\n",
    "clean_df['price'] = clean_df['price'].astype(float)\n",
    "plt.hist(clean_df['price'], bins=10)\n"
   ]
  },
  {
   "cell_type": "code",
   "execution_count": 34,
   "metadata": {},
   "outputs": [
    {
     "data": {
      "text/html": [
       "<div>\n",
       "<style scoped>\n",
       "    .dataframe tbody tr th:only-of-type {\n",
       "        vertical-align: middle;\n",
       "    }\n",
       "\n",
       "    .dataframe tbody tr th {\n",
       "        vertical-align: top;\n",
       "    }\n",
       "\n",
       "    .dataframe thead th {\n",
       "        text-align: right;\n",
       "    }\n",
       "</style>\n",
       "<table border=\"1\" class=\"dataframe\">\n",
       "  <thead>\n",
       "    <tr style=\"text-align: right;\">\n",
       "      <th></th>\n",
       "      <th>id</th>\n",
       "      <th>price</th>\n",
       "      <th>category</th>\n",
       "    </tr>\n",
       "  </thead>\n",
       "  <tbody>\n",
       "    <tr>\n",
       "      <th>4436</th>\n",
       "      <td>f9e4fc1c-175a-4046-bd31-1821f46e6445</td>\n",
       "      <td>0.00</td>\n",
       "      <td>11.0</td>\n",
       "    </tr>\n",
       "    <tr>\n",
       "      <th>784</th>\n",
       "      <td>8910d61d-35d6-4a70-92df-2d503ddea926</td>\n",
       "      <td>0.00</td>\n",
       "      <td>5.0</td>\n",
       "    </tr>\n",
       "    <tr>\n",
       "      <th>3122</th>\n",
       "      <td>cf7ae00e-90f7-4652-b01e-8e5a6477bd2e</td>\n",
       "      <td>0.00</td>\n",
       "      <td>6.0</td>\n",
       "    </tr>\n",
       "    <tr>\n",
       "      <th>3192</th>\n",
       "      <td>046b1534-919b-4181-a50d-22f09526ad88</td>\n",
       "      <td>0.00</td>\n",
       "      <td>6.0</td>\n",
       "    </tr>\n",
       "    <tr>\n",
       "      <th>10209</th>\n",
       "      <td>3306c04f-f217-46be-b424-cd11ea1ff9dd</td>\n",
       "      <td>0.00</td>\n",
       "      <td>8.0</td>\n",
       "    </tr>\n",
       "    <tr>\n",
       "      <th>...</th>\n",
       "      <td>...</td>\n",
       "      <td>...</td>\n",
       "      <td>...</td>\n",
       "    </tr>\n",
       "    <tr>\n",
       "      <th>8059</th>\n",
       "      <td>daf20f20-fc25-460e-aeea-e1a1aa3fada6</td>\n",
       "      <td>999.00</td>\n",
       "      <td>0.0</td>\n",
       "    </tr>\n",
       "    <tr>\n",
       "      <th>2423</th>\n",
       "      <td>f6687cd1-6d1f-4201-b9f9-7fc12438cfc7</td>\n",
       "      <td>999.00</td>\n",
       "      <td>10.0</td>\n",
       "    </tr>\n",
       "    <tr>\n",
       "      <th>10497</th>\n",
       "      <td>94e88043-8417-47cb-b1b7-f8e4ba870006</td>\n",
       "      <td>999.00</td>\n",
       "      <td>4.0</td>\n",
       "    </tr>\n",
       "    <tr>\n",
       "      <th>10315</th>\n",
       "      <td>5cc4b6c8-08f5-4751-8483-e810c7f47818</td>\n",
       "      <td>999.99</td>\n",
       "      <td>8.0</td>\n",
       "    </tr>\n",
       "    <tr>\n",
       "      <th>10285</th>\n",
       "      <td>7f6921df-7140-4592-934d-baf2e2d16037</td>\n",
       "      <td>999.99</td>\n",
       "      <td>8.0</td>\n",
       "    </tr>\n",
       "  </tbody>\n",
       "</table>\n",
       "<p>6172 rows × 3 columns</p>\n",
       "</div>"
      ],
      "text/plain": [
       "                                         id   price  category\n",
       "4436   f9e4fc1c-175a-4046-bd31-1821f46e6445    0.00      11.0\n",
       "784    8910d61d-35d6-4a70-92df-2d503ddea926    0.00       5.0\n",
       "3122   cf7ae00e-90f7-4652-b01e-8e5a6477bd2e    0.00       6.0\n",
       "3192   046b1534-919b-4181-a50d-22f09526ad88    0.00       6.0\n",
       "10209  3306c04f-f217-46be-b424-cd11ea1ff9dd    0.00       8.0\n",
       "...                                     ...     ...       ...\n",
       "8059   daf20f20-fc25-460e-aeea-e1a1aa3fada6  999.00       0.0\n",
       "2423   f6687cd1-6d1f-4201-b9f9-7fc12438cfc7  999.00      10.0\n",
       "10497  94e88043-8417-47cb-b1b7-f8e4ba870006  999.00       4.0\n",
       "10315  5cc4b6c8-08f5-4751-8483-e810c7f47818  999.99       8.0\n",
       "10285  7f6921df-7140-4592-934d-baf2e2d16037  999.99       8.0\n",
       "\n",
       "[6172 rows x 3 columns]"
      ]
     },
     "execution_count": 34,
     "metadata": {},
     "output_type": "execute_result"
    }
   ],
   "source": [
    "clean_df"
   ]
  }
 ],
 "metadata": {
  "interpreter": {
   "hash": "10e48adfccac507dfb5b32a0d22b7fd973a5ecf1288933bd7a360a98fc8c5575"
  },
  "kernelspec": {
   "display_name": "Python 3.9.7 64-bit",
   "language": "python",
   "name": "python3"
  },
  "language_info": {
   "codemirror_mode": {
    "name": "ipython",
    "version": 3
   },
   "file_extension": ".py",
   "mimetype": "text/x-python",
   "name": "python",
   "nbconvert_exporter": "python",
   "pygments_lexer": "ipython3",
   "version": "3.9.7"
  },
  "orig_nbformat": 4
 },
 "nbformat": 4,
 "nbformat_minor": 2
}
